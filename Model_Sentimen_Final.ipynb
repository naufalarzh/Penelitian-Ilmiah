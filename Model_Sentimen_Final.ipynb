{
  "nbformat": 4,
  "nbformat_minor": 0,
  "metadata": {
    "colab": {
      "provenance": [],
      "gpuType": "T4"
    },
    "kernelspec": {
      "name": "python3",
      "display_name": "Python 3"
    },
    "language_info": {
      "name": "python"
    },
    "accelerator": "GPU"
  },
  "cells": [
    {
      "cell_type": "markdown",
      "source": ["## **--- Library ---**"],
      "metadata": {
        "id": "QoK89NsOj9oA"
      }
    },
    {
      "cell_type": "markdown",
      "source": ["*--- Install ---*"],
      "metadata": {
        "id": "_16ZqGxwkD1v"
      }
    },
    {
      "cell_type": "code",
      "execution_count": 1,
      "metadata": {
        "id": "SK9oS8EBj5ky"
      },
      "outputs": [],
      "source": ["!pip install -q transformers datasets scikit-learn imbalanced-learn tqdm"]
    },
    {
      "cell_type": "markdown",
      "source": ["*--- Import ---*"],
      "metadata": {
        "id": "1ywa2mViknkZ"
      }
    },
    {
      "cell_type": "code",
      "source": [
        "import re\n",
        "import random\n",
        "from collections import Counter\n",
        "import numpy as np\n",
        "import pandas as pd\n",
        "import matplotlib.pyplot as plt\n",
        "import seaborn as sns\n",
        "from sklearn.model_selection import train_test_split\n",
        "from sklearn.preprocessing import LabelEncoder\n",
        "from sklearn.metrics import classification_report, accuracy_score, confusion_matrix\n",
        "import torch\n",
        "import torch.nn.functional as F\n",
        "from torch.utils.data import Dataset, DataLoader\n",
        "from torch.optim import AdamW\n",
        "from transformers import AutoTokenizer, AutoModelForSequenceClassification, get_scheduler, pipeline\n",
        "from tqdm import tqdm\n",
        "tqdm.pandas()"
      ],
      "metadata": {
        "id": "E35WwFqdkq8C"
      },
      "execution_count": 2,
      "outputs": []
    },
    {
      "cell_type": "markdown",
      "source": ["## **--- Load Dataset ---**"],
      "metadata": {
        "id": "VOm7rtWGkxHP"
      }
    },
    {
      "cell_type": "code",
      "source": ["file_id = '1xpQp-GqED-iFzKol7_aL_qR49NpR-Bsl'\n", "url = f'https://drive.google.com/uc?id={file_id}'\n", "df = pd.read_csv(url)\n", "df.info()"],
      "metadata": {
        "id": "4AW7bkIAkzuj",
        "outputId": "e46b346c-234c-40ba-aa8a-676b2453f262",
        "colab": {
          "base_uri": "https://localhost:8080/"
        }
      },
      "execution_count": 3,
      "outputs": [
        {
          "output_type": "stream",
          "name": "stdout",
          "text": [
            "<class 'pandas.core.frame.DataFrame'>\n",
            "RangeIndex: 5383 entries, 0 to 5382\n",
            "Data columns (total 16 columns):\n",
            " #   Column                   Non-Null Count  Dtype  \n",
            "---  ------                   --------------  -----  \n",
            " 0   full_text                5382 non-null   object \n",
            " 1   username;;;              2776 non-null   object \n",
            " 2   conversation_id_str      2607 non-null   float64\n",
            " 3   created_at               2607 non-null   object \n",
            " 4   favorite_count           2607 non-null   float64\n",
            " 5   id_str                   2607 non-null   float64\n",
            " 6   image_url                564 non-null    object \n",
            " 7   in_reply_to_screen_name  973 non-null    object \n",
            " 8   lang                     2607 non-null   object \n",
            " 9   location                 0 non-null      float64\n",
            " 10  quote_count              2607 non-null   float64\n",
            " 11  reply_count              2607 non-null   float64\n",
            " 12  retweet_count            2607 non-null   float64\n",
            " 13  tweet_url                2607 non-null   object \n",
            " 14  user_id_str              2607 non-null   float64\n",
            " 15  username                 0 non-null      float64\n",
            "dtypes: float64(9), object(7)\n",
            "memory usage: 673.0+ KB\n"
          ]
        }
      ]
    },
    {
      "cell_type": "code",
      "source": ["# Hanya mengambil kolom yang diperlukan\n", "df = df[['full_text']]\n", "df.head()"],
      "metadata": {
        "id": "ccNLxbPhk5zy",
        "outputId": "c94f828c-aebf-4ef5-a9bb-c9a9534cb880",
        "colab": {
          "base_uri": "https://localhost:8080/",
          "height": 206
        }
      },
      "execution_count": 4,
      "outputs": [
        {
          "output_type": "execute_result",
          "data": {
            "text/plain": [
              "                                           full_text\n",
              "0  Kl misal kritik pemerintah akan diframing seba...\n",
              "1  Makin hari makin capek buka twitter ada aja be...\n",
              "2  @ilhampid biarin EGP biar pemerintah +negara y...\n",
              "3  @hammsqi Kalo dikejar-kejar karena kebebasan b...\n",
              "4  Makanya susah kalo mau perubahan karena masyar..."
            ],
            "text/html": [
              "\n",
              "  <div id=\"df-4d32450c-bca1-4ed5-a24c-c3fb28baefc0\" class=\"colab-df-container\">\n",
              "    <div>\n",
              "<style scoped>\n",
              "    .dataframe tbody tr th:only-of-type {\n",
              "        vertical-align: middle;\n",
              "    }\n",
              "\n",
              "    .dataframe tbody tr th {\n",
              "        vertical-align: top;\n",
              "    }\n",
              "\n",
              "    .dataframe thead th {\n",
              "        text-align: right;\n",
              "    }\n",
              "</style>\n",
              "<table border=\"1\" class=\"dataframe\">\n",
              "  <thead>\n",
              "    <tr style=\"text-align: right;\">\n",
              "      <th></th>\n",
              "      <th>full_text</th>\n",
              "    </tr>\n",
              "  </thead>\n",
              "  <tbody>\n",
              "    <tr>\n",
              "      <th>0</th>\n",
              "      <td>Kl misal kritik pemerintah akan diframing seba...</td>\n",
              "    </tr>\n",
              "    <tr>\n",
              "      <th>1</th>\n",
              "      <td>Makin hari makin capek buka twitter ada aja be...</td>\n",
              "    </tr>\n",
              "    <tr>\n",
              "      <th>2</th>\n",
              "      <td>@ilhampid biarin EGP biar pemerintah +negara y...</td>\n",
              "    </tr>\n",
              "    <tr>\n",
              "      <th>3</th>\n",
              "      <td>@hammsqi Kalo dikejar-kejar karena kebebasan b...</td>\n",
              "    </tr>\n",
              "    <tr>\n",
              "      <th>4</th>\n",
              "      <td>Makanya susah kalo mau perubahan karena masyar...</td>\n",
              "    </tr>\n",
              "  </tbody>\n",
              "</table>\n",
              "</div>\n",
              "    <div class=\"colab-df-buttons\">\n",
              "\n",
              "  <div class=\"colab-df-container\">\n",
              "    <button class=\"colab-df-convert\" onclick=\"convertToInteractive('df-4d32450c-bca1-4ed5-a24c-c3fb28baefc0')\"\n",
              "            title=\"Convert this dataframe to an interactive table.\"\n",
              "            style=\"display:none;\">\n",
              "\n",
              "  <svg xmlns=\"http://www.w3.org/2000/svg\" height=\"24px\" viewBox=\"0 -960 960 960\">\n",
              "    <path d=\"M120-120v-720h720v720H120Zm60-500h600v-160H180v160Zm220 220h160v-160H400v160Zm0 220h160v-160H400v160ZM180-400h160v-160H180v160Zm440 0h160v-160H620v160ZM180-180h160v-160H180v160Zm440 0h160v-160H620v160Z\"/>\n",
              "  </svg>\n",
              "    </button>\n",
              "\n",
              "  <style>\n",
              "    .colab-df-container {\n",
              "      display:flex;\n",
              "      gap: 12px;\n",
              "    }\n",
              "\n",
              "    .colab-df-convert {\n",
              "      background-color: #E8F0FE;\n",
              "      border: none;\n",
              "      border-radius: 50%;\n",
              "      cursor: pointer;\n",
              "      display: none;\n",
              "      fill: #1967D2;\n",
              "      height: 32px;\n",
              "      padding: 0 0 0 0;\n",
              "      width: 32px;\n",
              "    }\n",
              "\n",
              "    .colab-df-convert:hover {\n",
              "      background-color: #E2EBFA;\n",
              "      box-shadow: 0px 1px 2px rgba(60, 64, 67, 0.3), 0px 1px 3px 1px rgba(60, 64, 67, 0.15);\n",
              "      fill: #174EA6;\n",
              "    }\n",
              "\n",
              "    .colab-df-buttons div {\n",
              "      margin-bottom: 4px;\n",
              "    }\n",
              "\n",
              "    [theme=dark] .colab-df-convert {\n",
              "      background-color: #3B4455;\n",
              "      fill: #D2E3FC;\n",
              "    }\n",
              "\n",
              "    [theme=dark] .colab-df-convert:hover {\n",
              "      background-color: #434B5C;\n",
              "      box-shadow: 0px 1px 3px 1px rgba(0, 0, 0, 0.15);\n",
              "      filter: drop-shadow(0px 1px 2px rgba(0, 0, 0, 0.3));\n",
              "      fill: #FFFFFF;\n",
              "    }\n",
              "  </style>\n",
              "\n",
              "    <script>\n",
              "      const buttonEl =\n",
              "        document.querySelector('#df-4d32450c-bca1-4ed5-a24c-c3fb28baefc0 button.colab-df-convert');\n",
              "      buttonEl.style.display =\n",
              "        google.colab.kernel.accessAllowed ? 'block' : 'none';\n",
              "\n",
              "      async function convertToInteractive(key) {\n",
              "        const element = document.querySelector('#df-4d32450c-bca1-4ed5-a24c-c3fb28baefc0');\n",
              "        const dataTable =\n",
              "          await google.colab.kernel.invokeFunction('convertToInteractive',\n",
              "                                                    [key], {});\n",
              "        if (!dataTable) return;\n",
              "\n",
              "        const docLinkHtml = 'Like what you see? Visit the ' +\n",
              "          '<a target=\"_blank\" href=https://colab.research.google.com/notebooks/data_table.ipynb>data table notebook</a>'\n",
              "          + ' to learn more about interactive tables.';\n",
              "        element.innerHTML = '';\n",
              "        dataTable['output_type'] = 'display_data';\n",
              "        await google.colab.output.renderOutput(dataTable, element);\n",
              "        const docLink = document.createElement('div');\n",
              "        docLink.innerHTML = docLinkHtml;\n",
              "        element.appendChild(docLink);\n",
              "      }\n",
              "    </script>\n",
              "  </div>\n",
              "\n",
              "\n",
              "    <div id=\"df-7ce3d93c-67fd-4853-9115-d2edae3e006a\">\n",
              "      <button class=\"colab-df-quickchart\" onclick=\"quickchart('df-7ce3d93c-67fd-4853-9115-d2edae3e006a')\"\n",
              "                title=\"Suggest charts\"\n",
              "                style=\"display:none;\">\n",
              "\n",
              "<svg xmlns=\"http://www.w3.org/2000/svg\" height=\"24px\"viewBox=\"0 0 24 24\"\n",
              "     width=\"24px\">\n",
              "    <g>\n",
              "        <path d=\"M19 3H5c-1.1 0-2 .9-2 2v14c0 1.1.9 2 2 2h14c1.1 0 2-.9 2-2V5c0-1.1-.9-2-2-2zM9 17H7v-7h2v7zm4 0h-2V7h2v10zm4 0h-2v-4h2v4z\"/>\n",
              "    </g>\n",
              "</svg>\n",
              "      </button>\n",
              "\n",
              "<style>\n",
              "  .colab-df-quickchart {\n",
              "      --bg-color: #E8F0FE;\n",
              "      --fill-color: #1967D2;\n",
              "      --hover-bg-color: #E2EBFA;\n",
              "      --hover-fill-color: #174EA6;\n",
              "      --disabled-fill-color: #AAA;\n",
              "      --disabled-bg-color: #DDD;\n",
              "  }\n",
              "\n",
              "  [theme=dark] .colab-df-quickchart {\n",
              "      --bg-color: #3B4455;\n",
              "      --fill-color: #D2E3FC;\n",
              "      --hover-bg-color: #434B5C;\n",
              "      --hover-fill-color: #FFFFFF;\n",
              "      --disabled-bg-color: #3B4455;\n",
              "      --disabled-fill-color: #666;\n",
              "  }\n",
              "\n",
              "  .colab-df-quickchart {\n",
              "    background-color: var(--bg-color);\n",
              "    border: none;\n",
              "    border-radius: 50%;\n",
              "    cursor: pointer;\n",
              "    display: none;\n",
              "    fill: var(--fill-color);\n",
              "    height: 32px;\n",
              "    padding: 0;\n",
              "    width: 32px;\n",
              "  }\n",
              "\n",
              "  .colab-df-quickchart:hover {\n",
              "    background-color: var(--hover-bg-color);\n",
              "    box-shadow: 0 1px 2px rgba(60, 64, 67, 0.3), 0 1px 3px 1px rgba(60, 64, 67, 0.15);\n",
              "    fill: var(--button-hover-fill-color);\n",
              "  }\n",
              "\n",
              "  .colab-df-quickchart-complete:disabled,\n",
              "  .colab-df-quickchart-complete:disabled:hover {\n",
              "    background-color: var(--disabled-bg-color);\n",
              "    fill: var(--disabled-fill-color);\n",
              "    box-shadow: none;\n",
              "  }\n",
              "\n",
              "  .colab-df-spinner {\n",
              "    border: 2px solid var(--fill-color);\n",
              "    border-color: transparent;\n",
              "    border-bottom-color: var(--fill-color);\n",
              "    animation:\n",
              "      spin 1s steps(1) infinite;\n",
              "  }\n",
              "\n",
              "  @keyframes spin {\n",
              "    0% {\n",
              "      border-color: transparent;\n",
              "      border-bottom-color: var(--fill-color);\n",
              "      border-left-color: var(--fill-color);\n",
              "    }\n",
              "    20% {\n",
              "      border-color: transparent;\n",
              "      border-left-color: var(--fill-color);\n",
              "      border-top-color: var(--fill-color);\n",
              "    }\n",
              "    30% {\n",
              "      border-color: transparent;\n",
              "      border-left-color: var(--fill-color);\n",
              "      border-top-color: var(--fill-color);\n",
              "      border-right-color: var(--fill-color);\n",
              "    }\n",
              "    40% {\n",
              "      border-color: transparent;\n",
              "      border-right-color: var(--fill-color);\n",
              "      border-top-color: var(--fill-color);\n",
              "    }\n",
              "    60% {\n",
              "      border-color: transparent;\n",
              "      border-right-color: var(--fill-color);\n",
              "    }\n",
              "    80% {\n",
              "      border-color: transparent;\n",
              "      border-right-color: var(--fill-color);\n",
              "      border-bottom-color: var(--fill-color);\n",
              "    }\n",
              "    90% {\n",
              "      border-color: transparent;\n",
              "      border-bottom-color: var(--fill-color);\n",
              "    }\n",
              "  }\n",
              "</style>\n",
              "\n",
              "      <script>\n",
              "        async function quickchart(key) {\n",
              "          const quickchartButtonEl =\n",
              "            document.querySelector('#' + key + ' button');\n",
              "          quickchartButtonEl.disabled = true;  // To prevent multiple clicks.\n",
              "          quickchartButtonEl.classList.add('colab-df-spinner');\n",
              "          try {\n",
              "            const charts = await google.colab.kernel.invokeFunction(\n",
              "                'suggestCharts', [key], {});\n",
              "          } catch (error) {\n",
              "            console.error('Error during call to suggestCharts:', error);\n",
              "          }\n",
              "          quickchartButtonEl.classList.remove('colab-df-spinner');\n",
              "          quickchartButtonEl.classList.add('colab-df-quickchart-complete');\n",
              "        }\n",
              "        (() => {\n",
              "          let quickchartButtonEl =\n",
              "            document.querySelector('#df-7ce3d93c-67fd-4853-9115-d2edae3e006a button');\n",
              "          quickchartButtonEl.style.display =\n",
              "            google.colab.kernel.accessAllowed ? 'block' : 'none';\n",
              "        })();\n",
              "      </script>\n",
              "    </div>\n",
              "\n",
              "    </div>\n",
              "  </div>\n"
            ],
            "application/vnd.google.colaboratory.intrinsic+json": {
              "type": "dataframe",
              "variable_name": "df",
              "summary": "{\n  \"name\": \"df\",\n  \"rows\": 5383,\n  \"fields\": [\n    {\n      \"column\": \"full_text\",\n      \"properties\": {\n        \"dtype\": \"string\",\n        \"num_unique_values\": 4528,\n        \"samples\": [\n          \"2026 punya pengalaman #KaburAjaDulu ke luar negeri\",\n          \"Sudah tidak ada pejabat dan aparat yg bs dipercaya dinegeri ini.#bajingan #PertaminaSarangKoruptor #KaburAjaDulu\",\n          \"Ya Allah masa gw kalah ma maung dia aja udh #KaburAjaDulu masa gw blm bisa?? \"\n        ],\n        \"semantic_type\": \"\",\n        \"description\": \"\"\n      }\n    }\n  ]\n}"
            }
          },
          "metadata": {},
          "execution_count": 4
        }
      ]
    },
    {
      "cell_type": "code",
      "source": ["# menghapus data duplikat dan null\n", "df = df.dropna().drop_duplicates().reset_index(drop=True)\n", "print(f\"Data shape after cleaning: {df.shape}\")"],
      "metadata": {
        "id": "th5rk456k_Jb",
        "outputId": "1545c8f1-0d1a-4967-df14-bc0fd080a441",
        "colab": {
          "base_uri": "https://localhost:8080/"
        }
      },
      "execution_count": 5,
      "outputs": [
        {
          "output_type": "stream",
          "name": "stdout",
          "text": ["Data shape after cleaning: (4528, 1)\n"]
        }
      ]
    },
    {
      "cell_type": "markdown",
      "source": ["## **--- Data Preparation ---**"],
      "metadata": {
        "id": "EuKuTWd9lN29"
      }
    },
    {
      "cell_type": "markdown",
      "source": ["*--- Pre-Processing teks ---*"],
      "metadata": {
        "id": "e2KQI3cwlSBy"
      }
    },
    {
      "cell_type": "code",
      "source": [
        "def clean_text(text):\n",
        "    text = text.lower()\n",
        "    text = re.sub(r'http\\S+|www.\\S+', '', text)  # Hapus URL\n",
        "    text = re.sub(r'@\\w+|#\\w+', '', text)        # Hapus mention dan hashtag\n",
        "    text = re.sub(r'\\s+', ' ', text).strip()     # Hapus spasi ganda\n",
        "    return text\n",
        "\n",
        "df['cleaned_tweet'] = df['full_text'].apply(clean_text)"
      ],
      "metadata": {
        "id": "1zfbpgtolcu1"
      },
      "execution_count": 6,
      "outputs": []
    },
    {
      "cell_type": "code",
      "source": ["# perbandingan sebelum dan sesudah preprocessing teks\n", "df[['full_text', 'cleaned_tweet']].head()"],
      "metadata": {
        "id": "Af266GB4l0uy",
        "outputId": "f46d0091-7cc7-4718-ddd3-95ade3d5d193",
        "colab": {
          "base_uri": "https://localhost:8080/",
          "height": 206
        }
      },
      "execution_count": 7,
      "outputs": [
        {
          "output_type": "execute_result",
          "data": {
            "text/plain": [
              "                                           full_text  \\\n",
              "0  Kl misal kritik pemerintah akan diframing seba...   \n",
              "1  Makin hari makin capek buka twitter ada aja be...   \n",
              "2  @ilhampid biarin EGP biar pemerintah +negara y...   \n",
              "3  @hammsqi Kalo dikejar-kejar karena kebebasan b...   \n",
              "4  Makanya susah kalo mau perubahan karena masyar...   \n",
              "\n",
              "                                       cleaned_tweet  \n",
              "0  kl misal kritik pemerintah akan diframing seba...  \n",
              "1  makin hari makin capek buka twitter ada aja be...  \n",
              "2  biarin egp biar pemerintah +negara yg ngurus i...  \n",
              "3  kalo dikejar-kejar karena kebebasan berpendapa...  \n",
              "4  makanya susah kalo mau perubahan karena masyar...  "
            ],
            "text/html": [
              "\n",
              "  <div id=\"df-6dc49bf5-2d6a-407d-a7af-cf0befa6024e\" class=\"colab-df-container\">\n",
              "    <div>\n",
              "<style scoped>\n",
              "    .dataframe tbody tr th:only-of-type {\n",
              "        vertical-align: middle;\n",
              "    }\n",
              "\n",
              "    .dataframe tbody tr th {\n",
              "        vertical-align: top;\n",
              "    }\n",
              "\n",
              "    .dataframe thead th {\n",
              "        text-align: right;\n",
              "    }\n",
              "</style>\n",
              "<table border=\"1\" class=\"dataframe\">\n",
              "  <thead>\n",
              "    <tr style=\"text-align: right;\">\n",
              "      <th></th>\n",
              "      <th>full_text</th>\n",
              "      <th>cleaned_tweet</th>\n",
              "    </tr>\n",
              "  </thead>\n",
              "  <tbody>\n",
              "    <tr>\n",
              "      <th>0</th>\n",
              "      <td>Kl misal kritik pemerintah akan diframing seba...</td>\n",
              "      <td>kl misal kritik pemerintah akan diframing seba...</td>\n",
              "    </tr>\n",
              "    <tr>\n",
              "      <th>1</th>\n",
              "      <td>Makin hari makin capek buka twitter ada aja be...</td>\n",
              "      <td>makin hari makin capek buka twitter ada aja be...</td>\n",
              "    </tr>\n",
              "    <tr>\n",
              "      <th>2</th>\n",
              "      <td>@ilhampid biarin EGP biar pemerintah +negara y...</td>\n",
              "      <td>biarin egp biar pemerintah +negara yg ngurus i...</td>\n",
              "    </tr>\n",
              "    <tr>\n",
              "      <th>3</th>\n",
              "      <td>@hammsqi Kalo dikejar-kejar karena kebebasan b...</td>\n",
              "      <td>kalo dikejar-kejar karena kebebasan berpendapa...</td>\n",
              "    </tr>\n",
              "    <tr>\n",
              "      <th>4</th>\n",
              "      <td>Makanya susah kalo mau perubahan karena masyar...</td>\n",
              "      <td>makanya susah kalo mau perubahan karena masyar...</td>\n",
              "    </tr>\n",
              "  </tbody>\n",
              "</table>\n",
              "</div>\n",
              "    <div class=\"colab-df-buttons\">\n",
              "\n",
              "  <div class=\"colab-df-container\">\n",
              "    <button class=\"colab-df-convert\" onclick=\"convertToInteractive('df-6dc49bf5-2d6a-407d-a7af-cf0befa6024e')\"\n",
              "            title=\"Convert this dataframe to an interactive table.\"\n",
              "            style=\"display:none;\">\n",
              "\n",
              "  <svg xmlns=\"http://www.w3.org/2000/svg\" height=\"24px\" viewBox=\"0 -960 960 960\">\n",
              "    <path d=\"M120-120v-720h720v720H120Zm60-500h600v-160H180v160Zm220 220h160v-160H400v160Zm0 220h160v-160H400v160ZM180-400h160v-160H180v160Zm440 0h160v-160H620v160ZM180-180h160v-160H180v160Zm440 0h160v-160H620v160Z\"/>\n",
              "  </svg>\n",
              "    </button>\n",
              "\n",
              "  <style>\n",
              "    .colab-df-container {\n",
              "      display:flex;\n",
              "      gap: 12px;\n",
              "    }\n",
              "\n",
              "    .colab-df-convert {\n",
              "      background-color: #E8F0FE;\n",
              "      border: none;\n",
              "      border-radius: 50%;\n",
              "      cursor: pointer;\n",
              "      display: none;\n",
              "      fill: #1967D2;\n",
              "      height: 32px;\n",
              "      padding: 0 0 0 0;\n",
              "      width: 32px;\n",
              "    }\n",
              "\n",
              "    .colab-df-convert:hover {\n",
              "      background-color: #E2EBFA;\n",
              "      box-shadow: 0px 1px 2px rgba(60, 64, 67, 0.3), 0px 1px 3px 1px rgba(60, 64, 67, 0.15);\n",
              "      fill: #174EA6;\n",
              "    }\n",
              "\n",
              "    .colab-df-buttons div {\n",
              "      margin-bottom: 4px;\n",
              "    }\n",
              "\n",
              "    [theme=dark] .colab-df-convert {\n",
              "      background-color: #3B4455;\n",
              "      fill: #D2E3FC;\n",
              "    }\n",
              "\n",
              "    [theme=dark] .colab-df-convert:hover {\n",
              "      background-color: #434B5C;\n",
              "      box-shadow: 0px 1px 3px 1px rgba(0, 0, 0, 0.15);\n",
              "      filter: drop-shadow(0px 1px 2px rgba(0, 0, 0, 0.3));\n",
              "      fill: #FFFFFF;\n",
              "    }\n",
              "  </style>\n",
              "\n",
              "    <script>\n",
              "      const buttonEl =\n",
              "        document.querySelector('#df-6dc49bf5-2d6a-407d-a7af-cf0befa6024e button.colab-df-convert');\n",
              "      buttonEl.style.display =\n",
              "        google.colab.kernel.accessAllowed ? 'block' : 'none';\n",
              "\n",
              "      async function convertToInteractive(key) {\n",
              "        const element = document.querySelector('#df-6dc49bf5-2d6a-407d-a7af-cf0befa6024e');\n",
              "        const dataTable =\n",
              "          await google.colab.kernel.invokeFunction('convertToInteractive',\n",
              "                                                    [key], {});\n",
              "        if (!dataTable) return;\n",
              "\n",
              "        const docLinkHtml = 'Like what you see? Visit the ' +\n",
              "          '<a target=\"_blank\" href=https://colab.research.google.com/notebooks/data_table.ipynb>data table notebook</a>'\n",
              "          + ' to learn more about interactive tables.';\n",
              "        element.innerHTML = '';\n",
              "        dataTable['output_type'] = 'display_data';\n",
              "        await google.colab.output.renderOutput(dataTable, element);\n",
              "        const docLink = document.createElement('div');\n",
              "        docLink.innerHTML = docLinkHtml;\n",
              "        element.appendChild(docLink);\n",
              "      }\n",
              "    </script>\n",
              "  </div>\n",
              "\n",
              "\n",
              "    <div id=\"df-4484f5e8-be56-4f6b-9e70-08f9fd403c7b\">\n",
              "      <button class=\"colab-df-quickchart\" onclick=\"quickchart('df-4484f5e8-be56-4f6b-9e70-08f9fd403c7b')\"\n",
              "                title=\"Suggest charts\"\n",
              "                style=\"display:none;\">\n",
              "\n",
              "<svg xmlns=\"http://www.w3.org/2000/svg\" height=\"24px\"viewBox=\"0 0 24 24\"\n",
              "     width=\"24px\">\n",
              "    <g>\n",
              "        <path d=\"M19 3H5c-1.1 0-2 .9-2 2v14c0 1.1.9 2 2 2h14c1.1 0 2-.9 2-2V5c0-1.1-.9-2-2-2zM9 17H7v-7h2v7zm4 0h-2V7h2v10zm4 0h-2v-4h2v4z\"/>\n",
              "    </g>\n",
              "</svg>\n",
              "      </button>\n",
              "\n",
              "<style>\n",
              "  .colab-df-quickchart {\n",
              "      --bg-color: #E8F0FE;\n",
              "      --fill-color: #1967D2;\n",
              "      --hover-bg-color: #E2EBFA;\n",
              "      --hover-fill-color: #174EA6;\n",
              "      --disabled-fill-color: #AAA;\n",
              "      --disabled-bg-color: #DDD;\n",
              "  }\n",
              "\n",
              "  [theme=dark] .colab-df-quickchart {\n",
              "      --bg-color: #3B4455;\n",
              "      --fill-color: #D2E3FC;\n",
              "      --hover-bg-color: #434B5C;\n",
              "      --hover-fill-color: #FFFFFF;\n",
              "      --disabled-bg-color: #3B4455;\n",
              "      --disabled-fill-color: #666;\n",
              "  }\n",
              "\n",
              "  .colab-df-quickchart {\n",
              "    background-color: var(--bg-color);\n",
              "    border: none;\n",
              "    border-radius: 50%;\n",
              "    cursor: pointer;\n",
              "    display: none;\n",
              "    fill: var(--fill-color);\n",
              "    height: 32px;\n",
              "    padding: 0;\n",
              "    width: 32px;\n",
              "  }\n",
              "\n",
              "  .colab-df-quickchart:hover {\n",
              "    background-color: var(--hover-bg-color);\n",
              "    box-shadow: 0 1px 2px rgba(60, 64, 67, 0.3), 0 1px 3px 1px rgba(60, 64, 67, 0.15);\n",
              "    fill: var(--button-hover-fill-color);\n",
              "  }\n",
              "\n",
              "  .colab-df-quickchart-complete:disabled,\n",
              "  .colab-df-quickchart-complete:disabled:hover {\n",
              "    background-color: var(--disabled-bg-color);\n",
              "    fill: var(--disabled-fill-color);\n",
              "    box-shadow: none;\n",
              "  }\n",
              "\n",
              "  .colab-df-spinner {\n",
              "    border: 2px solid var(--fill-color);\n",
              "    border-color: transparent;\n",
              "    border-bottom-color: var(--fill-color);\n",
              "    animation:\n",
              "      spin 1s steps(1) infinite;\n",
              "  }\n",
              "\n",
              "  @keyframes spin {\n",
              "    0% {\n",
              "      border-color: transparent;\n",
              "      border-bottom-color: var(--fill-color);\n",
              "      border-left-color: var(--fill-color);\n",
              "    }\n",
              "    20% {\n",
              "      border-color: transparent;\n",
              "      border-left-color: var(--fill-color);\n",
              "      border-top-color: var(--fill-color);\n",
              "    }\n",
              "    30% {\n",
              "      border-color: transparent;\n",
              "      border-left-color: var(--fill-color);\n",
              "      border-top-color: var(--fill-color);\n",
              "      border-right-color: var(--fill-color);\n",
              "    }\n",
              "    40% {\n",
              "      border-color: transparent;\n",
              "      border-right-color: var(--fill-color);\n",
              "      border-top-color: var(--fill-color);\n",
              "    }\n",
              "    60% {\n",
              "      border-color: transparent;\n",
              "      border-right-color: var(--fill-color);\n",
              "    }\n",
              "    80% {\n",
              "      border-color: transparent;\n",
              "      border-right-color: var(--fill-color);\n",
              "      border-bottom-color: var(--fill-color);\n",
              "    }\n",
              "    90% {\n",
              "      border-color: transparent;\n",
              "      border-bottom-color: var(--fill-color);\n",
              "    }\n",
              "  }\n",
              "</style>\n",
              "\n",
              "      <script>\n",
              "        async function quickchart(key) {\n",
              "          const quickchartButtonEl =\n",
              "            document.querySelector('#' + key + ' button');\n",
              "          quickchartButtonEl.disabled = true;  // To prevent multiple clicks.\n",
              "          quickchartButtonEl.classList.add('colab-df-spinner');\n",
              "          try {\n",
              "            const charts = await google.colab.kernel.invokeFunction(\n",
              "                'suggestCharts', [key], {});\n",
              "          } catch (error) {\n",
              "            console.error('Error during call to suggestCharts:', error);\n",
              "          }\n",
              "          quickchartButtonEl.classList.remove('colab-df-spinner');\n",
              "          quickchartButtonEl.classList.add('colab-df-quickchart-complete');\n",
              "        }\n",
              "        (() => {\n",
              "          let quickchartButtonEl =\n",
              "            document.querySelector('#df-4484f5e8-be56-4f6b-9e70-08f9fd403c7b button');\n",
              "          quickchartButtonEl.style.display =\n",
              "            google.colab.kernel.accessAllowed ? 'block' : 'none';\n",
              "        })();\n",
              "      </script>\n",
              "    </div>\n",
              "\n",
              "    </div>\n",
              "  </div>\n"
            ],
            "application/vnd.google.colaboratory.intrinsic+json": {
              "type": "dataframe",
              "summary": "{\n  \"name\": \"df[['full_text', 'cleaned_tweet']]\",\n  \"rows\": 5,\n  \"fields\": [\n    {\n      \"column\": \"full_text\",\n      \"properties\": {\n        \"dtype\": \"string\",\n        \"num_unique_values\": 5,\n        \"samples\": [\n          \"Makin hari makin capek buka twitter ada aja berita sedih nya I can finally relate about the #KaburAjaDulu . Kayak capek aja berjuang dari bawah dan bersatu membesar namun pihak pemerintah sangat deaf tones kepada sipil padahal demo besar\\u00b2 an sudah terjadi kurleb-\",\n          \"Makanya susah kalo mau perubahan karena masyarakat kita sebagian besar yah begini mentalnya dan ini dipelihara terus menerus sama negara. Jalan satu-satunya cuma #KaburAjaDulu. Dan gua yakin metode ini akan terus digunakan pemerintah ini atau selanjutnya untuk menang pemilu.\",\n          \"@ilhampid biarin EGP biar pemerintah +negara yg ngurus isu kalian yg gelap2an KLO gw semakin gelap semakin asiiik ngapain pusing2 seperti kalian naikin #KaburAjaDulu trus #IndonesiaMakinGelap negara+pemerintah dh da yg urus kalian lucu kaum ngk bs move on dr isu cebong vs kampret dst\"\n        ],\n        \"semantic_type\": \"\",\n        \"description\": \"\"\n      }\n    },\n    {\n      \"column\": \"cleaned_tweet\",\n      \"properties\": {\n        \"dtype\": \"string\",\n        \"num_unique_values\": 5,\n        \"samples\": [\n          \"makin hari makin capek buka twitter ada aja berita sedih nya i can finally relate about the . kayak capek aja berjuang dari bawah dan bersatu membesar namun pihak pemerintah sangat deaf tones kepada sipil padahal demo besar\\u00b2 an sudah terjadi kurleb-\",\n          \"makanya susah kalo mau perubahan karena masyarakat kita sebagian besar yah begini mentalnya dan ini dipelihara terus menerus sama negara. jalan satu-satunya cuma . dan gua yakin metode ini akan terus digunakan pemerintah ini atau selanjutnya untuk menang pemilu.\",\n          \"biarin egp biar pemerintah +negara yg ngurus isu kalian yg gelap2an klo gw semakin gelap semakin asiiik ngapain pusing2 seperti kalian naikin trus negara+pemerintah dh da yg urus kalian lucu kaum ngk bs move on dr isu cebong vs kampret dst\"\n        ],\n        \"semantic_type\": \"\",\n        \"description\": \"\"\n      }\n    }\n  ]\n}"
            }
          },
          "metadata": {},
          "execution_count": 7
        }
      ]
    },
    {
      "cell_type": "markdown",
      "source": ["*--- Pelabelan Data ---*"],
      "metadata": {
        "id": "fl5VSWuUmxnc"
      }
    },
    {
      "cell_type": "code",
      "source": [
        "# Klasifikasi Topik\n",
        "topic_classifier = pipeline(\"zero-shot-classification\", model=\"joeddav/xlm-roberta-large-xnli\")\n",
        "candidate_labels = [\"ekonomi\", \"pendidikan\", \"politik\"]\n",
        "\n",
        "# Klasifikasi Sentimen\n",
        "sentiment_classifier = pipeline(\"sentiment-analysis\", model=\"w11wo/indonesian-roberta-base-sentiment-classifier\")\n",
        "\n",
        "# Fungsi klasifikasi gabungan\n",
        "def classify_topic_and_sentiment(text):\n",
        "    if not text.strip():\n",
        "        return {\"topic\": \"no_text\", \"sentiment\": \"no_text\"}\n",
        "\n",
        "    # Klasifikasi topik\n",
        "    topic_result = topic_classifier(text, candidate_labels)\n",
        "    top_topic = topic_result['labels'][0]\n",
        "\n",
        "    # Klasifikasi sentimen\n",
        "    sentiment_result = sentiment_classifier(text)[0]\n",
        "    sentiment = sentiment_result['label'].lower()  # 'positive', 'negative', 'neutral'\n",
        "\n",
        "    return {\"topic\": top_topic, \"sentiment\": sentiment}\n",
        "\n",
        "# Terapkan ke DataFrame\n",
        "df[['topic', 'sentiment']] = df['cleaned_tweet'].progress_apply(\n",
        "    lambda x: pd.Series(classify_topic_and_sentiment(x))\n",
        ")"
      ],
      "metadata": {
        "id": "pG7QOBQLnLQp",
        "outputId": "b861654c-80ca-434d-9a22-ce731e3ba1ed",
        "colab": {
          "base_uri": "https://localhost:8080/",
          "height": 647,
          "referenced_widgets": [
            "ede51c1288b743e4927e1a8a66fcec96",
            "0f0febd988b54d57ac4ecc0b6b37b8f6",
            "d80748a5f2e44e91bf5bafd6f6a3907a",
            "d3c19b2c3e544dfb86f7a347a2b3f26d",
            "a27996ce822d460fb33ebadc41c6ff06",
            "da4138715aa64438bdb649f06621652e",
            "89cda73103654dc0b05db4dbbc47a2d3",
            "a38b047a5d1c4aae8bf278626d3ee3f3",
            "a5be3d8baf37465b99df65ae4d2a7e85",
            "fd4373fec2834d638a65e178dfcd5e76",
            "b52fe0cd4d954c8796df7f91bf09ebf9",
            "b0c88234f5494dcda08d84e6e00590c4",
            "934b6084c408453090277367de49a3bd",
            "cfdeca08c2e54fc6bba602336018fc3f",
            "e78656f258a74a48994cbee18a7a64fd",
            "e3e3a88c0a224dd0a24f773c039cb3c8",
            "d2c48a0e2a4b4aa094f23b540b2cbe68",
            "55bcc7cc750149d4852458af7d360989",
            "5ccd5a8d31ee422ab4fdee65cbfec0cb",
            "5135e1246ecd47e8ad2b9f2feb19f58b",
            "6abd59c4a6ce49fd91c9bfd23355ce8b",
            "2c10253d70624c498d2462836395d9cb",
            "2e51b8fc49024ad8be7c717f354d8492",
            "3d6f4bbcb17e48da87520d04bda6e034",
            "32c4f3a9eddd49f6898c8093b141bba6",
            "e6efd7252ce9460eb94989b08b017008",
            "a18f68b412de4f97bc90443c3db5bac9",
            "40d8e299da0d4ecbb18857b17a54e473",
            "f96bc19e889a4255af72553638596058",
            "353a440cf4054fb1bbf0c8f8ca5e0504",
            "79de8b5a4463409faa5ebedc7bbef600",
            "b1ab02f952024b89b108451f07aa928a",
            "0434daa9e93347479f81e5194323dc49",
            "205d49ae82364233ac909795d056dc30",
            "a5661247e4d34e60bd7e04bed47c7195",
            "8bd0e5611ba3486c9c6c0ccd28f86058",
            "d06415baa91a48839c8a956e6100784d",
            "1697dc79cdc74c49a9d208acc56713ba",
            "e61c92f8b2a64a00bcaca23c2eb52829",
            "9f90dd834c894b9da1d7c8e733a4d502",
            "3369ffc4536946828d5b10f690e830f6",
            "e03324aab6e946a985730057f6562943",
            "861c74bc9ae04eb3a0ab9d34df824073",
            "2922023980fe46c59b7ebdf962e0f4b8",
            "2926892843a74fe2bde832a64c464eb8",
            "fd140d44a5124b679b991bcab1aa43fd",
            "88fb761deae247dd8df90d87919f77f6",
            "e590273af9904e60a3aabbd51840898a",
            "07e8f56037f24d32a0af1f8fb4c2ab4c",
            "42f3d218e4114c45a70fca6ce6b9e56f",
            "72c948f1a06c470a9dfc7c4a1106d081",
            "9fd03321ed504858bb97036419d66af7",
            "f8f5a09622774f97a0dafb68ed4cf2dd",
            "155bd421800544a28d0678dc94171d10",
            "824a2351ede24631beb16596f222c814",
            "42cb98c2e13f4b449774ba8b017f0eeb",
            "1fa5bff8b29c4fe7b7f16ee9ed6fb0bf",
            "1d6b58bd470347f79306d89af59c944b",
            "b6a59e5586914a61b6c0a7961957d062",
            "7a21574dd7f04a2780a8ad6652fcc6ea",
            "463e8ad1d1ca4d049af606a3376bf724",
            "461b88e89ffb47138139a05f72beb639",
            "0d28390284324955ae80eecdf92714a3",
            "301b517138f04375b1c2f5a95e912e7f",
            "838e6830d70048c4b6cb9473ad8623a9",
            "3540de00b7fb4a24a0da5331b46f2471",
            "e81140d3d72742dea8dd8b2940aa5880",
            "d49b22839f0a4b749b64029e74833128",
            "37824e401c4f44f996855f7560fbfb88",
            "e542812d4c9e492db938559fbdb71632",
            "bb2b0f2863024a18900cd86fb1d4709f",
            "3ef4fa2ff8d248ccb098e85bd2dbac71",
            "21810c64754844f886f7bbcd44aa0007",
            "7fc5e2ca310c442db85f3bdb275595aa",
            "fce5b4e67a554102ac6f7e6a44d83118",
            "f5d4a322d32f492dbe114f31007af705",
            "de4b30ebe4304f6b833f8d76bda9a4ea",
            "51bbc0801b4148c6a7a8a87f29c7e4f2",
            "42fcf962621d4c2f9da0b02c6b11428f",
            "9c6314b4e3564291b0153047afb35fc8",
            "4d031a5030634718997d4be40b9f1ca2",
            "0d35b8e91c54434889e63ec203022391",
            "12e0c94766f04de5b46d0807a22a2219",
            "433e41aadf124466b097c5b6d9e03d8c",
            "8f7c3022ca474712b4c031a37a7c70a0",
            "f8414bace4d543e887e01594b88cb3b1",
            "e9b91cdae24b45af8e1583b3907b7acd",
            "0724da901c3c41b68b35588d3990b731",
            "8a848c37db0d49f4b353ba629c236edf",
            "89db2087ac124970a8b7d8fdb62d14f8",
            "a2ec4fb6f4f647ef8527d537656d90d6",
            "5fd57cd199764984bc6b6b105586721a",
            "63049ac608dd4bc78b8e1943435fd565",
            "59a401cd80d8431cb1e1b358eff466a9",
            "3c378f5937ef4bc9b3bc9d788eb69745",
            "a88c22a46b974b068a947d10ef5b3f5c",
            "e49d50915b174bb98308b028a61f5ac0",
            "310277b4385643758fd7f7ce009061b1",
            "c23fcca0ec3242f391ebe2ac2d75887a",
            "6af9cb51b8314db089992395bf3fbeb6",
            "e3cc00cb944f41fc890b6eee20471d32",
            "6ce4a5e91bca4c6bb4c3ce465cf75e6d",
            "de8ac8b20c1749888861b8399adf864a",
            "6c14ab60b9ce40e394f7e509d0b8ac4b",
            "666991bc4ee142108c2d9c8504ef39a5",
            "818a78dfcd514fe1b302afc089013ec1",
            "777419533efd48fca9649f2ecd6a315d",
            "0b9fa8313acb4acbadc5aa4119c0d997",
            "0415870a3f9a4cf88613028639871a00",
            "fe5d14491f244a959a1b72595acecf0d",
            "9b143ecc7bd64e37a423d2c1289f6e6e",
            "b837eb1324524ee1a6a85101fc2c0b41",
            "a235c4f5d60043dc94cfba4623347bde",
            "8009972881214064baff6cfdc73cd5be",
            "4c60d3204c4247a1865f8e7611c9ceb1",
            "2c2eddef77724e6c93b875a13e77e1cb",
            "b549625dd40f4f04ae25c0619a49c794",
            "46f07841d4c54d898a2ccc3025ec2e0f",
            "bee89d3793cb4a8aa4f5862f91252dc1",
            "38e327f25eb54da3b8fb0765bd9efa87",
            "a5aea09d7e8c465996b0459a16bbc090",
            "87e17f942d1f460e907e26a623aa8012",
            "0df77c38b735434c8f693da65c793b86",
            "8581b02d281845c497de2951d91a268b",
            "96b9a5c0462247e7934abd8817e23421",
            "3eb896d460db4813bd23494faf16bbad",
            "f624f44d70fb4b89b6815d3cc5695f42",
            "00c3c9828ad34c4d97d99ab84da8698c",
            "d4ad80f3b6cc4a6a95d0105b3863e945",
            "da7baa851a8b42f09634fc2bd1a3b04b",
            "84bddf9e8b5741fda27553668f0b2cd0",
            "f1fa79e7a057490fad4cbf8d00c58a71"
          ]
        }
      },
      "execution_count": 8,
      "outputs": [
        {
          "output_type": "stream",
          "name": "stderr",
          "text": [
            "/usr/local/lib/python3.11/dist-packages/huggingface_hub/utils/_auth.py:94: UserWarning: \n",
            "The secret `HF_TOKEN` does not exist in your Colab secrets.\n",
            "To authenticate with the Hugging Face Hub, create a token in your settings tab (https://huggingface.co/settings/tokens), set it as secret in your Google Colab and restart your session.\n",
            "You will be able to reuse this secret in all of your notebooks.\n",
            "Please note that authentication is recommended but still optional to access public models or datasets.\n",
            "  warnings.warn(\n"
          ]
        },
        {
          "output_type": "display_data",
          "data": {
            "text/plain": ["config.json:   0%|          | 0.00/734 [00:00<?, ?B/s]"],
            "application/vnd.jupyter.widget-view+json": {
              "version_major": 2,
              "version_minor": 0,
              "model_id": "ede51c1288b743e4927e1a8a66fcec96"
            }
          },
          "metadata": {}
        },
        {
          "output_type": "display_data",
          "data": {
            "text/plain": ["model.safetensors:   0%|          | 0.00/2.24G [00:00<?, ?B/s]"],
            "application/vnd.jupyter.widget-view+json": {
              "version_major": 2,
              "version_minor": 0,
              "model_id": "b0c88234f5494dcda08d84e6e00590c4"
            }
          },
          "metadata": {}
        },
        {
          "output_type": "stream",
          "name": "stderr",
          "text": [
            "Some weights of the model checkpoint at joeddav/xlm-roberta-large-xnli were not used when initializing XLMRobertaForSequenceClassification: ['roberta.pooler.dense.bias', 'roberta.pooler.dense.weight']\n",
            "- This IS expected if you are initializing XLMRobertaForSequenceClassification from the checkpoint of a model trained on another task or with another architecture (e.g. initializing a BertForSequenceClassification model from a BertForPreTraining model).\n",
            "- This IS NOT expected if you are initializing XLMRobertaForSequenceClassification from the checkpoint of a model that you expect to be exactly identical (initializing a BertForSequenceClassification model from a BertForSequenceClassification model).\n"
          ]
        },
        {
          "output_type": "display_data",
          "data": {
            "text/plain": ["tokenizer_config.json:   0%|          | 0.00/25.0 [00:00<?, ?B/s]"],
            "application/vnd.jupyter.widget-view+json": {
              "version_major": 2,
              "version_minor": 0,
              "model_id": "2e51b8fc49024ad8be7c717f354d8492"
            }
          },
          "metadata": {}
        },
        {
          "output_type": "display_data",
          "data": {
            "text/plain": ["sentencepiece.bpe.model:   0%|          | 0.00/5.07M [00:00<?, ?B/s]"],
            "application/vnd.jupyter.widget-view+json": {
              "version_major": 2,
              "version_minor": 0,
              "model_id": "205d49ae82364233ac909795d056dc30"
            }
          },
          "metadata": {}
        },
        {
          "output_type": "display_data",
          "data": {
            "text/plain": ["special_tokens_map.json:   0%|          | 0.00/150 [00:00<?, ?B/s]"],
            "application/vnd.jupyter.widget-view+json": {
              "version_major": 2,
              "version_minor": 0,
              "model_id": "2926892843a74fe2bde832a64c464eb8"
            }
          },
          "metadata": {}
        },
        {
          "output_type": "stream",
          "name": "stderr",
          "text": ["Device set to use cuda:0\n"]
        },
        {
          "output_type": "display_data",
          "data": {
            "text/plain": ["config.json:   0%|          | 0.00/929 [00:00<?, ?B/s]"],
            "application/vnd.jupyter.widget-view+json": {
              "version_major": 2,
              "version_minor": 0,
              "model_id": "42cb98c2e13f4b449774ba8b017f0eeb"
            }
          },
          "metadata": {}
        },
        {
          "output_type": "display_data",
          "data": {
            "text/plain": ["model.safetensors:   0%|          | 0.00/499M [00:00<?, ?B/s]"],
            "application/vnd.jupyter.widget-view+json": {
              "version_major": 2,
              "version_minor": 0,
              "model_id": "e81140d3d72742dea8dd8b2940aa5880"
            }
          },
          "metadata": {}
        },
        {
          "output_type": "display_data",
          "data": {
            "text/plain": ["tokenizer_config.json:   0%|          | 0.00/328 [00:00<?, ?B/s]"],
            "application/vnd.jupyter.widget-view+json": {
              "version_major": 2,
              "version_minor": 0,
              "model_id": "51bbc0801b4148c6a7a8a87f29c7e4f2"
            }
          },
          "metadata": {}
        },
        {
          "output_type": "display_data",
          "data": {
            "text/plain": ["vocab.json: 0.00B [00:00, ?B/s]"],
            "application/vnd.jupyter.widget-view+json": {
              "version_major": 2,
              "version_minor": 0,
              "model_id": "8a848c37db0d49f4b353ba629c236edf"
            }
          },
          "metadata": {}
        },
        {
          "output_type": "display_data",
          "data": {
            "text/plain": ["merges.txt: 0.00B [00:00, ?B/s]"],
            "application/vnd.jupyter.widget-view+json": {
              "version_major": 2,
              "version_minor": 0,
              "model_id": "6af9cb51b8314db089992395bf3fbeb6"
            }
          },
          "metadata": {}
        },
        {
          "output_type": "display_data",
          "data": {
            "text/plain": ["tokenizer.json: 0.00B [00:00, ?B/s]"],
            "application/vnd.jupyter.widget-view+json": {
              "version_major": 2,
              "version_minor": 0,
              "model_id": "9b143ecc7bd64e37a423d2c1289f6e6e"
            }
          },
          "metadata": {}
        },
        {
          "output_type": "display_data",
          "data": {
            "text/plain": ["special_tokens_map.json:   0%|          | 0.00/239 [00:00<?, ?B/s]"],
            "application/vnd.jupyter.widget-view+json": {
              "version_major": 2,
              "version_minor": 0,
              "model_id": "87e17f942d1f460e907e26a623aa8012"
            }
          },
          "metadata": {}
        },
        {
          "output_type": "stream",
          "name": "stderr",
          "text": [
            "Device set to use cuda:0\n",
            "  0%|          | 10/4528 [00:01<07:09, 10.51it/s]You seem to be using the pipelines sequentially on GPU. In order to maximize efficiency please use a dataset\n",
            "100%|██████████| 4528/4528 [05:26<00:00, 13.89it/s]\n"
          ]
        }
      ]
    },
    {
      "cell_type": "code",
      "source": [
        "# Cek hasil distribusi\n",
        "print(\"Distribusi Topik:\")\n",
        "print(df['topic'].value_counts().to_frame(name='jumlah'))\n",
        "\n",
        "print(\"\\nDistribusi Sentimen:\")\n",
        "print(df['sentiment'].value_counts().to_frame(name='jumlah'))"
      ],
      "metadata": {
        "id": "8mAJpZ_FnM-W",
        "outputId": "0c18b921-27c4-40ac-a528-3dac4588074b",
        "colab": {
          "base_uri": "https://localhost:8080/"
        }
      },
      "execution_count": 9,
      "outputs": [
        {
          "output_type": "stream",
          "name": "stdout",
          "text": [
            "Distribusi Topik:\n",
            "            jumlah\n",
            "topic             \n",
            "politik       1742\n",
            "ekonomi       1570\n",
            "pendidikan    1216\n",
            "\n",
            "Distribusi Sentimen:\n",
            "           jumlah\n",
            "sentiment        \n",
            "negative     2818\n",
            "neutral       882\n",
            "positive      828\n"
          ]
        }
      ]
    },
    {
      "cell_type": "markdown",
      "source": ["*--- Oversampling ---*"],
      "metadata": {
        "id": "yXy6WoqQLTc0"
      }
    },
    {
      "cell_type": "code",
      "source": [
        "from sklearn.utils import resample\n",
        "\n",
        "# Pisahkan data berdasarkan sentimen\n",
        "df_negative = df[df['sentiment'] == 'negative']\n",
        "df_neutral = df[df['sentiment'] == 'neutral']\n",
        "df_positive = df[df['sentiment'] == 'positive']\n",
        "\n",
        "# Oversample data netral dan positif agar jumlahnya sama seperti negative (2818)\n",
        "df_neutral_upsampled = resample(\n",
        "    df_neutral,\n",
        "    replace=True,  # sample dengan pengembalian\n",
        "    n_samples=len(df_negative),  # target jumlah\n",
        "    random_state=42\n",
        ")\n",
        "\n",
        "df_positive_upsampled = resample(\n",
        "    df_positive,\n",
        "    replace=True,\n",
        "    n_samples=len(df_negative),\n",
        "    random_state=42\n",
        ")\n",
        "\n",
        "# Gabungkan semua data menjadi satu\n",
        "df_balanced = pd.concat([df_negative, df_neutral_upsampled, df_positive_upsampled])\n",
        "\n",
        "# Shuffle barangkali diperlukan\n",
        "df_balanced = df_balanced.sample(frac=1, random_state=42).reset_index(drop=True)"
      ],
      "metadata": {
        "id": "wmOLjjHAME45"
      },
      "execution_count": 10,
      "outputs": []
    },
    {
      "cell_type": "code",
      "source": [
        "# Cek hasil distribusi\n",
        "print(\"Distribusi Topik:\")\n",
        "print(df['topic'].value_counts().to_frame(name='jumlah'))\n",
        "\n",
        "print(\"\\nDistribusi Sentimen:\")\n",
        "print(df_balanced['sentiment'].value_counts().to_frame(name='jumlah'))"
      ],
      "metadata": {
        "colab": {
          "base_uri": "https://localhost:8080/"
        },
        "id": "cjCMJuH5MIkH",
        "outputId": "e5dbc7c6-c955-4564-d5ce-f777a72b45c9"
      },
      "execution_count": 11,
      "outputs": [
        {
          "output_type": "stream",
          "name": "stdout",
          "text": [
            "Distribusi Topik:\n",
            "            jumlah\n",
            "topic             \n",
            "politik       1742\n",
            "ekonomi       1570\n",
            "pendidikan    1216\n",
            "\n",
            "Distribusi Sentimen:\n",
            "           jumlah\n",
            "sentiment        \n",
            "negative     2818\n",
            "neutral      2818\n",
            "positive     2818\n"
          ]
        }
      ]
    },
    {
      "cell_type": "markdown",
      "source": ["*--- Label Encoding ---*"],
      "metadata": {
        "id": "nBAGszQzpOWP"
      }
    },
    {
      "cell_type": "code",
      "source": [
        "# Inisialisasi encoder\n",
        "topic_encoder = LabelEncoder()\n",
        "sentiment_encoder = LabelEncoder()\n",
        "\n",
        "# Encode kolom 'topic' dan 'sentiment'\n",
        "df['topic_id'] = topic_encoder.fit_transform(df['topic'])\n",
        "df_balanced['sentiment_id'] = sentiment_encoder.fit_transform(df_balanced['sentiment'])\n",
        "\n",
        "# Simpan mapping dari label ke angka\n",
        "topic_mapping = dict(zip(topic_encoder.classes_, topic_encoder.transform(topic_encoder.classes_)))\n",
        "sentiment_mapping = dict(zip(sentiment_encoder.classes_, sentiment_encoder.transform(sentiment_encoder.classes_)))\n",
        "\n",
        "# Tampilkan hasil mapping\n",
        "print(\"Mapping Topik:\", topic_mapping)\n",
        "print(\"Mapping Sentimen:\", sentiment_mapping)"
      ],
      "metadata": {
        "id": "1uoFaDJLplQg",
        "outputId": "d8d7b9d6-b57d-44f6-f266-005c2f89bc81",
        "colab": {
          "base_uri": "https://localhost:8080/"
        }
      },
      "execution_count": 12,
      "outputs": [
        {
          "output_type": "stream",
          "name": "stdout",
          "text": [
            "Mapping Topik: {'ekonomi': np.int64(0), 'pendidikan': np.int64(1), 'politik': np.int64(2)}\n",
            "Mapping Sentimen: {'negative': np.int64(0), 'neutral': np.int64(1), 'positive': np.int64(2)}\n"
          ]
        }
      ]
    },
    {
      "cell_type": "markdown",
      "source": ["*--- Spliting Data ---*"],
      "metadata": {
        "id": "t_bZ8UszqHfx"
      }
    },
    {
      "cell_type": "code",
      "source": [
        "# spliting data topic\n",
        "train_texts_topic, val_texts_topic, train_labels_topic, val_labels_topic = train_test_split(\n",
        "    df['cleaned_tweet'].tolist(),\n",
        "    df['topic_id'].tolist(),\n",
        "    test_size=0.2,\n",
        "    stratify=df['topic_id'],\n",
        "    random_state=42\n",
        ")"
      ],
      "metadata": {
        "id": "mDJuVeDAqORU"
      },
      "execution_count": 13,
      "outputs": []
    },
    {
      "cell_type": "code",
      "source": [
        "# spliting data sentimen\n",
        "train_texts_sentiment, val_texts_sentiment, train_labels_sentiment, val_labels_sentiment = train_test_split(\n",
        "    df_balanced['cleaned_tweet'].tolist(),\n",
        "    df_balanced['sentiment_id'].tolist(),\n",
        "    test_size=0.2,\n",
        "    stratify=df_balanced['sentiment_id'],\n",
        "    random_state=42\n",
        ")"
      ],
      "metadata": {
        "id": "xyZcDrbMqU8W"
      },
      "execution_count": 14,
      "outputs": []
    },
    {
      "cell_type": "markdown",
      "source": ["*--- Tokenizer dan model name ---*"],
      "metadata": {
        "id": "jgLD9biNq6cC"
      }
    },
    {
      "cell_type": "code",
      "source": ["model_name = \"indobenchmark/indobert-base-p1\"\n", "tokenizer = AutoTokenizer.from_pretrained(model_name)"],
      "metadata": {
        "id": "RsN6_EQVrFmx",
        "outputId": "2eee0621-1d95-474d-b863-ec61d746e964",
        "colab": {
          "base_uri": "https://localhost:8080/",
          "height": 145,
          "referenced_widgets": [
            "b151e2778067471782a5a4e6297ce173",
            "08367ff3d9bb4df5ba688b5426112976",
            "a278616f5ecd4cefb7bcbf0bf2d67356",
            "bc7dd5e9324e4373bc4938768d0b4f85",
            "aa17b6521f014c94815ab4cfa3533e76",
            "837e843edfe842d0915d8499b8c16fa3",
            "cbb2ada89a85410da2c267d61913a93a",
            "ff81b81ec5c84ccb863c46be17069a17",
            "802db19a9e1743788db39f522b89b72f",
            "10f7ac03eb164cb58dda37dd9f6b39c5",
            "3189ebcb1bf74f72aa724d914c9a92b1",
            "32f9cfa85219454bac05849dbd988340",
            "6a6da35ae32f4bd2bcb036c3c4ee6216",
            "7aab60f8777f443a8829ef3ffb53a31b",
            "f634adbfb2404fa3991e3747dbcba968",
            "7379cd6ea1554f32b574de8e6da302ea",
            "6f0024c004ea4b5a81f5774150c5facc",
            "9dc458c4444044c9bf1d79037b055665",
            "49885b329f304480acebaad0c2658af1",
            "7cb4ee1c65fe448aadab8e183a82b983",
            "0a6cb1ab2d524ad498996b9507ed29c0",
            "f23de63e23a84732ab9ceac9d9503ab7",
            "3c6017af379445d68313a7c7c6d28f53",
            "979e207c162440f082c4c226c6ce675a",
            "879063268dc84f85802a95c0f7fb17be",
            "23aa50c010f347fdb672625ea353c843",
            "70fab23d2aa843fca3b1aa9b5752d187",
            "c5ead51e37564461988e377de922394b",
            "d70452023cc24ca8805b7d140aab3a08",
            "0d0121a92bdd4a6c87aa8b4b3e006258",
            "f81fc8effd6d40d09684101826423e11",
            "a398343b842b4852b6754b4c9c223cbd",
            "6651655d80c44e60903403752c3480da",
            "ce3b5b31d5ae4a6fabb95f87092f6baf",
            "8158a1bce6104bf7ae104fe55b81de8d",
            "385fa72b21af401c9f0a717fee3fe8bb",
            "782efc0f1761402d945d27ee02986fbe",
            "07eb13eb162c4e7faa7231d9572214a2",
            "6ff43005414f48668569ca0aa79b2ed1",
            "b70aefe00eea485c95337a7521f6aacf",
            "5f46288db930497f87b3e2e1d4efe9ab",
            "58171e94edaa450f936a5a165f97f063",
            "f9cd3d78446a44c8af7c87f01c3de5d6",
            "48ff17415cf345d1b9689378245a40bd"
          ]
        }
      },
      "execution_count": 15,
      "outputs": [
        {
          "output_type": "display_data",
          "data": {
            "text/plain": ["tokenizer_config.json:   0%|          | 0.00/2.00 [00:00<?, ?B/s]"],
            "application/vnd.jupyter.widget-view+json": {
              "version_major": 2,
              "version_minor": 0,
              "model_id": "b151e2778067471782a5a4e6297ce173"
            }
          },
          "metadata": {}
        },
        {
          "output_type": "display_data",
          "data": {
            "text/plain": ["config.json: 0.00B [00:00, ?B/s]"],
            "application/vnd.jupyter.widget-view+json": {
              "version_major": 2,
              "version_minor": 0,
              "model_id": "32f9cfa85219454bac05849dbd988340"
            }
          },
          "metadata": {}
        },
        {
          "output_type": "display_data",
          "data": {
            "text/plain": ["vocab.txt: 0.00B [00:00, ?B/s]"],
            "application/vnd.jupyter.widget-view+json": {
              "version_major": 2,
              "version_minor": 0,
              "model_id": "3c6017af379445d68313a7c7c6d28f53"
            }
          },
          "metadata": {}
        },
        {
          "output_type": "display_data",
          "data": {
            "text/plain": ["special_tokens_map.json:   0%|          | 0.00/112 [00:00<?, ?B/s]"],
            "application/vnd.jupyter.widget-view+json": {
              "version_major": 2,
              "version_minor": 0,
              "model_id": "ce3b5b31d5ae4a6fabb95f87092f6baf"
            }
          },
          "metadata": {}
        }
      ]
    },
    {
      "cell_type": "code",
      "source": [
        "# tokenisai topik\n",
        "train_encodings_topic = tokenizer(\n",
        "    train_texts_topic,\n",
        "    truncation=True,\n",
        "    padding=True,\n",
        "    max_length=64\n",
        ")\n",
        "\n",
        "val_encodings_topic = tokenizer(\n",
        "    val_texts_topic,\n",
        "    truncation=True,\n",
        "    padding=True,\n",
        "    max_length=64\n",
        ")"
      ],
      "metadata": {
        "id": "W7Wmh_fTrNwH"
      },
      "execution_count": 16,
      "outputs": []
    },
    {
      "cell_type": "code",
      "source": [
        "# tokenisasi sentimen\n",
        "train_encodings_sentiment = tokenizer(\n",
        "    train_texts_sentiment,\n",
        "    truncation=True,\n",
        "    padding=True,\n",
        "    max_length=64\n",
        ")\n",
        "\n",
        "val_encodings_sentiment = tokenizer(\n",
        "    val_texts_sentiment,\n",
        "    truncation=True,\n",
        "    padding=True,\n",
        "    max_length=64\n",
        ")"
      ],
      "metadata": {
        "id": "RwhmmqNLrRF6"
      },
      "execution_count": 17,
      "outputs": []
    },
    {
      "cell_type": "code",
      "source": [
        "class TweetDataset(Dataset):\n",
        "    def __init__(self, encodings, labels):\n",
        "        self.encodings = encodings\n",
        "        self.labels = labels\n",
        "    def __len__(self):\n",
        "        return len(self.labels)\n",
        "    def __getitem__(self, idx):\n",
        "        item = {k: torch.tensor(v[idx]) for k, v in self.encodings.items()}\n",
        "        item['labels'] = torch.tensor(self.labels[idx])\n",
        "        return item\n",
        "\n",
        "# Dataset untuk klasifikasi TOPIK\n",
        "train_dataset_topic = TweetDataset(train_encodings_topic, train_labels_topic)\n",
        "val_dataset_topic = TweetDataset(val_encodings_topic, val_labels_topic)\n",
        "\n",
        "# Dataset untuk klasifikasi SENTIMEN\n",
        "train_dataset_sentiment = TweetDataset(train_encodings_sentiment, train_labels_sentiment)\n",
        "val_dataset_sentiment = TweetDataset(val_encodings_sentiment, val_labels_sentiment)\n"
      ],
      "metadata": {
        "id": "GXftFkB4rblM"
      },
      "execution_count": 18,
      "outputs": []
    },
    {
      "cell_type": "markdown",
      "source": ["## **--- Modeling ---**"],
      "metadata": {
        "id": "XAgYR-Varo-r"
      }
    },
    {
      "cell_type": "markdown",
      "source": ["*-- Model setup dan Training ---*"],
      "metadata": {
        "id": "EtiZwszlr1GW"
      }
    },
    {
      "cell_type": "code",
      "source": ["device = torch.device(\"cuda\" if torch.cuda.is_available() else \"cpu\")"],
      "metadata": {
        "id": "hY_18gn3sCuj"
      },
      "execution_count": 20,
      "outputs": []
    },
    {
      "cell_type": "code",
      "source": [
        "# Jumlah label topik (ekonomi, politik, pendidikan)\n",
        "num_labels_topic = len(set(train_labels_topic))\n",
        "\n",
        "model_topic = AutoModelForSequenceClassification.from_pretrained(\n",
        "    model_name,\n",
        "    num_labels=num_labels_topic\n",
        ").to(device)\n",
        "\n",
        "optimizer_topic = AdamW(model_topic.parameters(), lr=2e-5, weight_decay=0.01)\n",
        "\n",
        "epochs = 4\n",
        "batch_size = 16\n",
        "\n",
        "train_loader_topic = DataLoader(train_dataset_topic, batch_size=batch_size, shuffle=True)\n",
        "val_loader_topic = DataLoader(val_dataset_topic, batch_size=batch_size)\n",
        "\n",
        "num_training_steps_topic = epochs * len(train_loader_topic)\n",
        "\n",
        "lr_scheduler_topic = get_scheduler(\n",
        "    \"linear\",\n",
        "    optimizer=optimizer_topic,\n",
        "    num_warmup_steps=0,\n",
        "    num_training_steps=num_training_steps_topic\n",
        ")"
      ],
      "metadata": {
        "id": "u4z_fcIzsCtY",
        "outputId": "626af1b1-9fb9-4c6b-e8f6-f6455018fd13",
        "colab": {
          "base_uri": "https://localhost:8080/",
          "height": 72
        }
      },
      "execution_count": 21,
      "outputs": [
        {
          "output_type": "stream",
          "name": "stderr",
          "text": [
            "Some weights of BertForSequenceClassification were not initialized from the model checkpoint at indobenchmark/indobert-base-p1 and are newly initialized: ['classifier.bias', 'classifier.weight']\n",
            "You should probably TRAIN this model on a down-stream task to be able to use it for predictions and inference.\n"
          ]
        }
      ]
    },
    {
      "cell_type": "code",
      "source": [
        "# Jumlah label sentimen (positive, neutral, negative)\n",
        "num_labels_sentiment = len(set(train_labels_sentiment))\n",
        "\n",
        "model_sentiment = AutoModelForSequenceClassification.from_pretrained(\n",
        "    model_name,\n",
        "    num_labels=num_labels_sentiment\n",
        ").to(device)\n",
        "\n",
        "optimizer_sentiment = AdamW(model_sentiment.parameters(), lr=2e-5, weight_decay=0.01)\n",
        "\n",
        "train_loader_sentiment = DataLoader(train_dataset_sentiment, batch_size=batch_size, shuffle=True)\n",
        "val_loader_sentiment = DataLoader(val_dataset_sentiment, batch_size=batch_size)\n",
        "\n",
        "num_training_steps_sentiment = epochs * len(train_loader_sentiment)\n",
        "\n",
        "lr_scheduler_sentiment = get_scheduler(\n",
        "    \"linear\",\n",
        "    optimizer=optimizer_sentiment,\n",
        "    num_warmup_steps=0,\n",
        "    num_training_steps=num_training_steps_sentiment\n",
        ")"
      ],
      "metadata": {
        "id": "V5XC6yUGsPWF",
        "outputId": "3bb836e3-6fb3-40dc-911d-7e477a8f5b95",
        "colab": {
          "base_uri": "https://localhost:8080/"
        }
      },
      "execution_count": 22,
      "outputs": [
        {
          "output_type": "stream",
          "name": "stderr",
          "text": [
            "Some weights of BertForSequenceClassification were not initialized from the model checkpoint at indobenchmark/indobert-base-p1 and are newly initialized: ['classifier.bias', 'classifier.weight']\n",
            "You should probably TRAIN this model on a down-stream task to be able to use it for predictions and inference.\n"
          ]
        }
      ]
    },
    {
      "cell_type": "markdown",
      "source": ["*--- general train loop ---*"],
      "metadata": {
        "id": "POjpKkrdt4V4"
      }
    },
    {
      "cell_type": "code",
      "source": [
        "def evaluate(model, dataloader):\n",
        "    model.eval()\n",
        "    preds, labels = [], []\n",
        "    with torch.no_grad():\n",
        "        for batch in dataloader:\n",
        "            batch = {k: v.to(device) for k, v in batch.items()}\n",
        "            outputs = model(**batch)\n",
        "            logits = outputs.logits\n",
        "            preds.extend(torch.argmax(logits, dim=-1).cpu().numpy())\n",
        "            labels.extend(batch['labels'].cpu().numpy())\n",
        "    return accuracy_score(labels, preds)\n",
        "\n",
        "def train_model(model, train_loader, val_loader, optimizer, lr_scheduler, model_name, epochs=4, patience=2):\n",
        "    best_val_acc = 0\n",
        "    trigger_times = 0  # jumlah epoch tanpa perbaikan\n",
        "    progress_bar = tqdm(range(epochs * len(train_loader)), desc=f\"Training {model_name}\")\n",
        "\n",
        "    for epoch in range(epochs):\n",
        "        model.train()\n",
        "        total_loss = 0\n",
        "        for batch in train_loader:\n",
        "            batch = {k: v.to(device) for k, v in batch.items()}\n",
        "            outputs = model(**batch)\n",
        "            loss = outputs.loss\n",
        "            loss.backward()\n",
        "            optimizer.step()\n",
        "            lr_scheduler.step()\n",
        "            optimizer.zero_grad()\n",
        "            total_loss += loss.item()\n",
        "            progress_bar.update(1)\n",
        "\n",
        "        val_acc = evaluate(model, val_loader)\n",
        "        print(f\"[{model_name}] Epoch {epoch+1}/{epochs} | Loss: {total_loss:.4f} | Val Acc: {val_acc:.4f}\")\n",
        "\n",
        "        # Simpan model terbaik\n",
        "        if val_acc > best_val_acc:\n",
        "            best_val_acc = val_acc\n",
        "            torch.save(model.state_dict(), f\"best_model_{model_name}.pt\")\n",
        "            trigger_times = 0  # reset saat ada perbaikan\n",
        "        else:\n",
        "            trigger_times += 1\n",
        "            print(f\"No improvement. Early stopping trigger {trigger_times}/{patience}\")\n",
        "            if trigger_times >= patience:\n",
        "                print(\"Early stopping activated.\")\n",
        "                break"
      ],
      "metadata": {
        "id": "JnEL08eRtte0"
      },
      "execution_count": 23,
      "outputs": []
    },
    {
      "cell_type": "code",
      "source": [
        "# training topik\n",
        "train_model(\n",
        "    model=model_topic,\n",
        "    train_loader=train_loader_topic,\n",
        "    val_loader=val_loader_topic,\n",
        "    optimizer=optimizer_topic,\n",
        "    lr_scheduler=lr_scheduler_topic,\n",
        "    model_name=\"topic\",\n",
        ")"
      ],
      "metadata": {
        "colab": {
          "base_uri": "https://localhost:8080/"
        },
        "id": "hsCX6I72VQzx",
        "outputId": "62767f5f-4be3-421d-c411-70fd792dfdac"
      },
      "execution_count": 24,
      "outputs": [
        {
          "output_type": "stream",
          "name": "stderr",
          "text": ["Training topic:  25%|██▍       | 226/908 [00:42<02:06,  5.40it/s]"]
        },
        {
          "output_type": "stream",
          "name": "stdout",
          "text": ["[topic] Epoch 1/4 | Loss: 165.1027 | Val Acc: 0.7439\n"]
        },
        {
          "output_type": "stream",
          "name": "stderr",
          "text": ["Training topic:  50%|████▉     | 453/908 [01:31<01:24,  5.41it/s]"]
        },
        {
          "output_type": "stream",
          "name": "stdout",
          "text": ["[topic] Epoch 2/4 | Loss: 91.7960 | Val Acc: 0.7550\n"]
        },
        {
          "output_type": "stream",
          "name": "stderr",
          "text": ["Training topic:  75%|███████▌  | 682/908 [02:22<03:09,  1.19it/s]"]
        },
        {
          "output_type": "stream",
          "name": "stdout",
          "text": ["[topic] Epoch 3/4 | Loss: 39.1535 | Val Acc: 0.7450\n", "No improvement. Early stopping trigger 1/2\n"]
        },
        {
          "output_type": "stream",
          "name": "stderr",
          "text": ["Training topic: 100%|██████████| 908/908 [03:07<00:00,  4.84it/s]"]
        },
        {
          "output_type": "stream",
          "name": "stdout",
          "text": ["[topic] Epoch 4/4 | Loss: 12.7907 | Val Acc: 0.7472\n", "No improvement. Early stopping trigger 2/2\n", "Early stopping activated.\n"]
        },
        {
          "output_type": "stream",
          "name": "stderr",
          "text": ["\n"]
        }
      ]
    },
    {
      "cell_type": "code",
      "source": [
        "# training sentimen\n",
        "train_model(\n",
        "    model=model_sentiment,\n",
        "    train_loader=train_loader_sentiment,\n",
        "    val_loader=val_loader_sentiment,\n",
        "    optimizer=optimizer_sentiment,\n",
        "    lr_scheduler=lr_scheduler_sentiment,\n",
        "    model_name=\"sentiment\",\n",
        ")"
      ],
      "metadata": {
        "id": "QL3ivQQxugky",
        "outputId": "e5db6942-5fad-4f2a-8c75-85fde358f57f",
        "colab": {
          "base_uri": "https://localhost:8080/"
        }
      },
      "execution_count": 25,
      "outputs": [
        {
          "output_type": "stream",
          "name": "stderr",
          "text": ["Training sentiment:  25%|██▌       | 423/1692 [01:18<03:37,  5.82it/s]"]
        },
        {
          "output_type": "stream",
          "name": "stdout",
          "text": ["[sentiment] Epoch 1/4 | Loss: 185.7407 | Val Acc: 0.9279\n"]
        },
        {
          "output_type": "stream",
          "name": "stderr",
          "text": ["Training sentiment:  50%|█████     | 846/1692 [02:49<02:25,  5.81it/s]"]
        },
        {
          "output_type": "stream",
          "name": "stdout",
          "text": ["[sentiment] Epoch 2/4 | Loss: 42.9513 | Val Acc: 0.9444\n"]
        },
        {
          "output_type": "stream",
          "name": "stderr",
          "text": ["Training sentiment:  75%|███████▌  | 1269/1692 [04:19<01:13,  5.78it/s]"]
        },
        {
          "output_type": "stream",
          "name": "stdout",
          "text": ["[sentiment] Epoch 3/4 | Loss: 9.5174 | Val Acc: 0.9568\n"]
        },
        {
          "output_type": "stream",
          "name": "stderr",
          "text": ["Training sentiment: 100%|██████████| 1692/1692 [05:45<00:00,  5.78it/s]"]
        },
        {
          "output_type": "stream",
          "name": "stdout",
          "text": ["[sentiment] Epoch 4/4 | Loss: 3.2406 | Val Acc: 0.9610\n"]
        },
        {
          "output_type": "stream",
          "name": "stderr",
          "text": ["\rTraining sentiment: 100%|██████████| 1692/1692 [06:01<00:00,  4.67it/s]\n"]
        }
      ]
    },
    {
      "cell_type": "markdown",
      "source": ["## **--- Evaluation ---**"],
      "metadata": {
        "id": "OPGaZ8F_vABm"
      }
    },
    {
      "cell_type": "code",
      "source": [
        "def evaluate_final_with_cm(model, val_loader, label_names, model_path, model_type=\"\"):\n",
        "    print(\"=\"*60)\n",
        "    print(f\"EVALUASI MODEL: {model_type.upper()}\")\n",
        "    print(\"=\"*60)\n",
        "\n",
        "    model.load_state_dict(torch.load(model_path))\n",
        "    model.eval()\n",
        "\n",
        "    all_preds, all_labels = [], []\n",
        "    with torch.no_grad():\n",
        "        for batch in val_loader:\n",
        "            batch = {k: v.to(device) for k, v in batch.items()}\n",
        "            outputs = model(**batch)\n",
        "            logits = outputs.logits\n",
        "            all_preds.extend(torch.argmax(logits, dim=-1).cpu().numpy())\n",
        "            all_labels.extend(batch['labels'].cpu().numpy())\n",
        "\n",
        "    print(\"\\n Classification Report:\\n\")\n",
        "    print(classification_report(all_labels, all_preds, target_names=label_names))\n",
        "\n",
        "    cm = confusion_matrix(all_labels, all_preds)\n",
        "    plt.figure(figsize=(6, 5))\n",
        "    sns.heatmap(cm, annot=True, fmt='d', cmap='Blues',\n",
        "                xticklabels=label_names, yticklabels=label_names)\n",
        "    plt.xlabel('Predicted')\n",
        "    plt.ylabel('True')\n",
        "    plt.title(f'Confusion Matrix - {model_type.capitalize()}')\n",
        "    plt.tight_layout()\n",
        "    plt.show()"
      ],
      "metadata": {
        "id": "W65m_tGDvSf4"
      },
      "execution_count": 26,
      "outputs": []
    },
    {
      "cell_type": "code",
      "source": [
        "# Evaluasi Topik\n",
        "evaluate_final_with_cm(\n",
        "    model=model_topic,\n",
        "    val_loader=val_loader_topic,\n",
        "    label_names=topic_encoder.classes_,\n",
        "    model_path=\"best_model_topic.pt\",\n",
        "    model_type=\"Topik\"\n",
        ")"
      ],
      "metadata": {
        "id": "pGEGb35tv9Ps",
        "outputId": "15067af1-b888-4b92-b6fe-cc84905f0117",
        "colab": {
          "base_uri": "https://localhost:8080/",
          "height": 785
        }
      },
      "execution_count": 27,
      "outputs": [
        {
          "output_type": "stream",
          "name": "stdout",
          "text": [
            "============================================================\n",
            "EVALUASI MODEL: TOPIK\n",
            "============================================================\n",
            "\n",
            " Classification Report:\n",
            "\n",
            "              precision    recall  f1-score   support\n",
            "\n",
            "     ekonomi       0.74      0.76      0.75       314\n",
            "  pendidikan       0.71      0.74      0.73       243\n",
            "     politik       0.80      0.76      0.78       349\n",
            "\n",
            "    accuracy                           0.75       906\n",
            "   macro avg       0.75      0.75      0.75       906\n",
            "weighted avg       0.76      0.75      0.76       906\n",
            "\n"
          ]
        },
        {
          "output_type": "display_data",
          "data": {
            "text/plain": ["<Figure size 600x500 with 2 Axes>"],
            "image/png": "[encoded data removed]"
          },
          "metadata": {}
        }
      ]
    },
    {
      "cell_type": "code",
      "source": [
        "# Evaluasi sentimen\n",
        "evaluate_final_with_cm(\n",
        "    model=model_sentiment,\n",
        "    val_loader=val_loader_sentiment,\n",
        "    label_names=sentiment_encoder.classes_,\n",
        "    model_path=\"best_model_sentiment.pt\",\n",
        "    model_type=\"Sentimen\"\n",
        ")"
      ],
      "metadata": {
        "id": "-rgbcRwrF3qr",
        "outputId": "7e4af69c-a5a7-45db-f22a-23c556ebfef4",
        "colab": {
          "base_uri": "https://localhost:8080/",
          "height": 785
        }
      },
      "execution_count": 28,
      "outputs": [
        {
          "output_type": "stream",
          "name": "stdout",
          "text": [
            "============================================================\n",
            "EVALUASI MODEL: SENTIMEN\n",
            "============================================================\n",
            "\n",
            " Classification Report:\n",
            "\n",
            "              precision    recall  f1-score   support\n",
            "\n",
            "    negative       0.97      0.92      0.95       563\n",
            "     neutral       0.96      0.98      0.97       564\n",
            "    positive       0.96      0.98      0.97       564\n",
            "\n",
            "    accuracy                           0.96      1691\n",
            "   macro avg       0.96      0.96      0.96      1691\n",
            "weighted avg       0.96      0.96      0.96      1691\n",
            "\n"
          ]
        },
        {
          "output_type": "display_data",
          "data": {
            "text/plain": ["<Figure size 600x500 with 2 Axes>"],
            "image/png": "[encoded data removed]"
          },
          "metadata": {}
        }
      ]
    },
    {
      "cell_type": "markdown",
      "source": ["## **--- Uji Coba ---**"],
      "metadata": {
        "id": "ZeA3ndHc0xPc"
      }
    },
    {
      "cell_type": "code",
      "source": [
        "def predict_topic_and_sentiment(text):\n",
        "    # Tokenisasi input\n",
        "    inputs = tokenizer(text, return_tensors=\"pt\", truncation=True, padding=True, max_length=128)\n",
        "    inputs = {k: v.to(device) for k, v in inputs.items()}\n",
        "\n",
        "    # --- Prediksi Topik ---\n",
        "    model_topic.eval()\n",
        "    with torch.no_grad():\n",
        "        outputs_topic = model_topic(**inputs)\n",
        "        logits_topic = outputs_topic.logits\n",
        "        probs_topic = F.softmax(logits_topic, dim=1).cpu().numpy()[0]\n",
        "        pred_id_topic = torch.argmax(logits_topic, dim=1).item()\n",
        "        pred_label_topic = topic_encoder.inverse_transform([pred_id_topic])[0]\n",
        "\n",
        "    # --- Prediksi Sentimen ---\n",
        "    model_sentiment.eval()\n",
        "    with torch.no_grad():\n",
        "        outputs_sentiment = model_sentiment(**inputs)\n",
        "        logits_sentiment = outputs_sentiment.logits\n",
        "        probs_sentiment = F.softmax(logits_sentiment, dim=1).cpu().numpy()[0]\n",
        "        pred_id_sentiment = torch.argmax(logits_sentiment, dim=1).item()\n",
        "        pred_label_sentiment = sentiment_encoder.inverse_transform([pred_id_sentiment])[0]\n",
        "\n",
        "    # --- Cetak hasil gabungan ---\n",
        "    print(\"=\"*60)\n",
        "    print(f\"TEKS BARU:\\n{text}\")\n",
        "    print(f\"Model memprediksi sentimen *{pred_label_sentiment}* pada topik *{pred_label_topic}*\")\n",
        "\n",
        "    print(\"\\nTOPIK TERPREDIKSI:\")\n",
        "    print(f\"=> {pred_label_topic}\")\n",
        "    for label, prob in zip(topic_encoder.classes_, probs_topic):\n",
        "        print(f\"   {label:<10}: {prob*100:.2f}%\")\n",
        "\n",
        "    print(\"\\nSENTIMEN TERPREDIKSI:\")\n",
        "    print(f\"=> {pred_label_sentiment}\")\n",
        "    for label, prob in zip(sentiment_encoder.classes_, probs_sentiment):\n",
        "        print(f\"   {label:<10}: {prob*100:.2f}%\")\n",
        "    print(\"=\"*60)\n",
        "\n",
        "    return {\n",
        "        \"text\": text,\n",
        "        \"predicted_topic\": pred_label_topic,\n",
        "        \"predicted_sentiment\": pred_label_sentiment,\n",
        "        \"topic_probs\": dict(zip(topic_encoder.classes_, probs_topic)),\n",
        "        \"sentiment_probs\": dict(zip(sentiment_encoder.classes_, probs_sentiment))\n",
        "    }"
      ],
      "metadata": {
        "id": "y4qShFh61RWd"
      },
      "execution_count": 29,
      "outputs": []
    },
    {
      "cell_type": "code",
      "source": ["predict_topic_and_sentiment(\"presiden prabowo membuat indonesia menjadi negara yang banyak koruptonya\")"],
      "metadata": {
        "id": "_ZlVDCbR1bI4",
        "outputId": "a45afda5-87d2-49c9-c61c-e9d0421c0b19",
        "colab": {
          "base_uri": "https://localhost:8080/"
        }
      },
      "execution_count": 33,
      "outputs": [
        {
          "output_type": "stream",
          "name": "stdout",
          "text": [
            "============================================================\n",
            "TEKS BARU:\n",
            "presiden prabowo membuat indonesia menjadi negara yang banyak koruptonya\n",
            "Model memprediksi sentimen *negative* pada topik *politik*\n",
            "\n",
            "TOPIK TERPREDIKSI:\n",
            "=> politik\n",
            "   ekonomi   : 9.75%\n",
            "   pendidikan: 0.58%\n",
            "   politik   : 89.67%\n",
            "\n",
            "SENTIMEN TERPREDIKSI:\n",
            "=> negative\n",
            "   negative  : 99.61%\n",
            "   neutral   : 0.37%\n",
            "   positive  : 0.02%\n",
            "============================================================\n"
          ]
        },
        {
          "output_type": "execute_result",
          "data": {
            "text/plain": [
              "{'text': 'presiden prabowo membuat indonesia menjadi negara yang banyak koruptonya',\n",
              " 'predicted_topic': 'politik',\n",
              " 'predicted_sentiment': 'negative',\n",
              " 'topic_probs': {'ekonomi': np.float32(0.0975009),\n",
              "  'pendidikan': np.float32(0.0058042128),\n",
              "  'politik': np.float32(0.89669484)},\n",
              " 'sentiment_probs': {'negative': np.float32(0.9961188),\n",
              "  'neutral': np.float32(0.0036769242),\n",
              "  'positive': np.float32(0.00020431193)}}"
            ]
          },
          "metadata": {},
          "execution_count": 33
        }
      ]
    },
    {
      "cell_type": "markdown",
      "source": ["## **Menyimpan Model**"],
      "metadata": {
        "id": "lyfhTQbkk9yu"
      }
    },
    {
      "cell_type": "code",
      "source": [
        "# Simpan model topik\n",
        "model_topic.save_pretrained(\"./model_topic\")\n",
        "tokenizer.save_pretrained(\"./model_topic\")\n",
        "\n",
        "# Simpan model sentimen\n",
        "model_sentiment.save_pretrained(\"./model_sentiment\")\n",
        "tokenizer.save_pretrained(\"./model_sentiment\")"
      ],
      "metadata": {
        "id": "obj2OU18lAQc",
        "outputId": "95688c1a-2ec7-41d0-f7a8-90c4fe89e497",
        "colab": {
          "base_uri": "https://localhost:8080/"
        }
      },
      "execution_count": 34,
      "outputs": [
        {
          "output_type": "execute_result",
          "data": {
            "text/plain": [
              "('./model_sentiment/tokenizer_config.json',\n",
              " './model_sentiment/special_tokens_map.json',\n",
              " './model_sentiment/vocab.txt',\n",
              " './model_sentiment/added_tokens.json',\n",
              " './model_sentiment/tokenizer.json')"
            ]
          },
          "metadata": {},
          "execution_count": 34
        }
      ]
    },
    {
      "cell_type": "code",
      "source": [
        "import pickle\n",
        "with open(\"topic_encoder.pkl\", \"wb\") as f:\n",
        "    pickle.dump(topic_encoder, f)\n",
        "\n",
        "with open(\"sentiment_encoder.pkl\", \"wb\") as f:\n",
        "    pickle.dump(sentiment_encoder, f)"
      ],
      "metadata": {
        "id": "NaEYEg1qKDtv"
      },
      "execution_count": 35,
      "outputs": []
    },
    {
      "cell_type": "code",
      "source": [
        "from google.colab import drive\n",
        "drive.mount('/content/drive')\n",
        "\n",
        "# Salin folder model_topic ke Google Drive\n",
        "!cp -r model_topic /content/drive/MyDrive/\n",
        "\n",
        "# Salin folder model_sentiment ke Google Drive\n",
        "!cp -r model_sentiment /content/drive/MyDrive/"
      ],
      "metadata": {
        "id": "4hW1rxzuMWSC",
        "outputId": "8b985bff-f0e5-4b13-e856-f3d3dd6e896c",
        "colab": {
          "base_uri": "https://localhost:8080/"
        }
      },
      "execution_count": 36,
      "outputs": [
        {
          "output_type": "stream",
          "name": "stdout",
          "text": ["Mounted at /content/drive\n"]
        }
      ]
    }
  ]
}
